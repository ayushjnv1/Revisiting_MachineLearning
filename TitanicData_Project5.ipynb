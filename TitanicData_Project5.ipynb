{
 "cells": [
  {
   "cell_type": "code",
   "execution_count": null,
   "metadata": {},
   "outputs": [],
   "source": [
    "import numpy as np \n",
    "import pandas as pd \n",
    "import seaborn as sns\n",
    "%matplotlib inline\n",
    "from matplotlib import pyplot as plt\n",
    "from matplotlib import style\n",
    "import warnings \n",
    "warnings.filterwarnings('ignore')"
   ]
  },
  {
   "cell_type": "code",
   "execution_count": null,
   "metadata": {},
   "outputs": [],
   "source": [
    "train_data = pd.read_csv(\"train.csv\")\n",
    "#test_data = pd.read_csv(\"test.csv\")"
   ]
  },
  {
   "cell_type": "code",
   "execution_count": null,
   "metadata": {},
   "outputs": [],
   "source": [
    "train_data.info()"
   ]
  },
  {
   "cell_type": "code",
   "execution_count": null,
   "metadata": {},
   "outputs": [],
   "source": [
    "print(train_data.shape)"
   ]
  },
  {
   "cell_type": "code",
   "execution_count": null,
   "metadata": {},
   "outputs": [],
   "source": [
    "train_data.describe()"
   ]
  },
  {
   "cell_type": "code",
   "execution_count": null,
   "metadata": {},
   "outputs": [],
   "source": [
    "train_data.describe(include=['O'])"
   ]
  },
  {
   "cell_type": "code",
   "execution_count": null,
   "metadata": {},
   "outputs": [],
   "source": [
    "train_data.head(10)"
   ]
  },
  {
   "cell_type": "code",
   "execution_count": null,
   "metadata": {},
   "outputs": [],
   "source": [
    "# Evaluate the missing Percentage of the data in the feature space. \n",
    "total = train_data.isnull().sum().sort_values(ascending=False)\n",
    "percent_1 = (round(train_data.isnull().sum()/train_data.isnull().count()*100).sort_values(ascending=False))\n",
    "missing_data = pd.concat([total, percent_1], axis=1, keys=['Total', 'Percentage (%)'])\n",
    "missing_data.head(5)"
   ]
  },
  {
   "cell_type": "code",
   "execution_count": null,
   "metadata": {},
   "outputs": [],
   "source": [
    "print(\"Average Fare: \", round(train_data['Fare'].mean(), 3))"
   ]
  },
  {
   "cell_type": "code",
   "execution_count": null,
   "metadata": {},
   "outputs": [],
   "source": [
    "print(\"Average Traveller Age: \", round(train_data['Age'].mean()))"
   ]
  },
  {
   "cell_type": "code",
   "execution_count": null,
   "metadata": {},
   "outputs": [],
   "source": [
    "sns.set(rc={'figure.figsize':(7,7)})\n",
    "sns.countplot(train_data['Survived'])\n",
    "plt.title('Survived or Not Survived')"
   ]
  },
  {
   "cell_type": "code",
   "execution_count": null,
   "metadata": {},
   "outputs": [],
   "source": [
    "first_class_count= (train_data['Pclass'] == 1).sum()\n",
    "second_class_count= (train_data['Pclass'] == 2).sum()\n",
    "third_class_count= (train_data['Pclass'] == 3).sum()\n",
    "print(\" Number of Passangers in First Class: \", first_class_count)\n",
    "print(\" Number of Passangers in Second Class: \",second_class_count)\n",
    "print(\" Number of Passangers in Third Class: \", third_class_count)"
   ]
  },
  {
   "cell_type": "code",
   "execution_count": null,
   "metadata": {},
   "outputs": [],
   "source": [
    "labels=['First Class', 'Second Class', 'Third Class']\n",
    "sizes=['first_class_count', 'second_class_count', 'third_class_count']\n",
    "plt.pie(sizes, labels=labels, autopct= '%1.2f%%')\n",
    "plt.axis('equal')\n",
    "plt.title('Class Distribution')\n",
    "plt.show()"
   ]
  },
  {
   "cell_type": "code",
   "execution_count": null,
   "metadata": {},
   "outputs": [],
   "source": [
    "sns.barplot(x='Pclass', y='Survived', data=train_data)\n",
    "plt.title('Class based Survival Rate')"
   ]
  },
  {
   "cell_type": "code",
   "execution_count": null,
   "metadata": {},
   "outputs": [],
   "source": [
    "# Age based survival in each class of Pclass\n",
    "grid_data = sns.FacetGrid(train_data, col='Survived', row='Pclass', size=2.2, aspect=1.6)\n",
    "grid_data.map(plt.hist, 'Age', alpha=.5, bins=20, color='orange')\n",
    "grid_data.add_legend()"
   ]
  },
  {
   "cell_type": "code",
   "execution_count": null,
   "metadata": {},
   "outputs": [],
   "source": [
    "sns.countplot(train_data['Pclass'], hue=train_data['Survived'], color='green')\n",
    "plt.title('Survived and not survived within three class')\n",
    "plt.xlabel('Three Classes')\n",
    "plt.ylabel('Count')\n",
    "plt.show()"
   ]
  },
  {
   "cell_type": "code",
   "execution_count": null,
   "metadata": {},
   "outputs": [],
   "source": [
    "# Density estimation of survived/not survived in each passanger class (1,2, and 3)\n",
    "est=sns.kdeplot(train_data.Pclass[train_data.Survived == 0], label='Not Survived', color='pink')\n",
    "est=sns.kdeplot(train_data.Pclass[train_data.Survived == 1], label='Survived', color='red')\n",
    "plt.title('Survived wrt Pclass ')\n",
    "plt.xlabel('Passanger classes')\n",
    "plt.ylabel('Count')\n",
    "plt.show()"
   ]
  },
  {
   "cell_type": "code",
   "execution_count": null,
   "metadata": {},
   "outputs": [],
   "source": [
    "# Analysis the numrical values \n",
    "plt.rcParams['figure.figsize'] = (20, 10)\n",
    "fig, axes = plt.subplots(nrows = 2, ncols = 2)\n",
    "num_features = ['Age', 'SibSp', 'Parch', 'Fare']\n",
    "xaxes = num_features\n",
    "yaxes = ['Counts', 'Counts', 'Counts', 'Counts']\n",
    "axes = axes.ravel()\n",
    "for idx, ax in enumerate(axes):\n",
    "    ax.hist(train_data[num_features[idx]].dropna(), bins=40, color='lightblue')\n",
    "    ax.set_xlabel(xaxes[idx], fontsize=20)\n",
    "    ax.set_ylabel(yaxes[idx], fontsize=20)\n",
    "    ax.tick_params(axis='both', labelsize=15)"
   ]
  },
  {
   "cell_type": "code",
   "execution_count": null,
   "metadata": {},
   "outputs": [],
   "source": [
    "plt.rcParams['figure.figsize'] = (15, 7)\n",
    "\n",
    "# import the package for visulization of the correlation\n",
    "from yellowbrick.features import Rank2D\n",
    "X = train_data[num_features].as_matrix()\n",
    "visualizer = Rank2D(features=num_features, algorithm='pearson')\n",
    "visualizer.fit(X)                \n",
    "visualizer.transform(X)            \n",
    "visualizer.poof()    "
   ]
  },
  {
   "cell_type": "code",
   "execution_count": null,
   "metadata": {},
   "outputs": [],
   "source": [
    "# Define function to plot bar chat for various feature set in the dataset\n",
    "def Bar_Chart(features):\n",
    "    survived=train_data[train_data['Survived']==1][features].value_counts()\n",
    "    notsurvived=train_data[train_data['Survived']==0][features].value_counts()\n",
    "    df=pd.DataFrame([survived, notsurvived])\n",
    "    df.index = ['survived', 'notsurvived']\n",
    "    df.plot(kind='bar', stacked=True, figsize=(11,6))"
   ]
  },
  {
   "cell_type": "code",
   "execution_count": null,
   "metadata": {},
   "outputs": [],
   "source": [
    "Bar_Chart('Embarked')"
   ]
  },
  {
   "cell_type": "code",
   "execution_count": null,
   "metadata": {},
   "outputs": [],
   "source": [
    "Bar_Chart('Sex')"
   ]
  },
  {
   "cell_type": "code",
   "execution_count": null,
   "metadata": {},
   "outputs": [],
   "source": [
    "survived = 'survived'\n",
    "not_survived = 'not survived'\n",
    "fig, axes = plt.subplots(nrows=1, ncols=2,figsize=(10, 4))\n",
    "\n",
    "female = train_data[train_data['Sex']=='female']\n",
    "male = train_data[train_data['Sex']=='male']\n",
    "\n",
    "ax = sns.distplot(female[female['Survived']==1].Age.dropna(), bins=20, label = survived, ax = axes[0], kde =False)\n",
    "ax = sns.distplot(female[female['Survived']==0].Age.dropna(), bins=40, label = not_survived, ax = axes[0], kde =False)\n",
    "ax.legend()\n",
    "ax.set_title('Female')\n",
    "\n",
    "ax = sns.distplot(male[male['Survived']==1].Age.dropna(), bins=20, label = survived, ax = axes[1], kde = False)\n",
    "ax = sns.distplot(male[male['Survived']==0].Age.dropna(), bins=40, label = not_survived, ax = axes[1], kde = False)\n",
    "ax.legend()\n",
    "ax.set_title('Male')"
   ]
  },
  {
   "cell_type": "code",
   "execution_count": null,
   "metadata": {},
   "outputs": [],
   "source": [
    "train_data.isnull().sum()"
   ]
  },
  {
   "cell_type": "markdown",
   "metadata": {},
   "source": [
    "Treating Missing Values in the dataset "
   ]
  },
  {
   "cell_type": "code",
   "execution_count": null,
   "metadata": {},
   "outputs": [],
   "source": [
    "def fill_na_median(data, inplace=True):\n",
    "    return data.fillna(data.median(), inplace=inplace)\n",
    "fill_na_median(train_data['Age'])\n",
    "train_data['Age'].describe()"
   ]
  },
  {
   "cell_type": "code",
   "execution_count": null,
   "metadata": {},
   "outputs": [],
   "source": [
    "def fill_na_most(data, inplace=True):\n",
    "    return data.fillna('S', inplace=inplace)\n",
    "fill_na_most(train_data['Embarked'])\n",
    "train_data['Embarked'].describe()"
   ]
  },
  {
   "cell_type": "code",
   "execution_count": null,
   "metadata": {},
   "outputs": [],
   "source": [
    "def log_transformation(data):\n",
    "    return data.apply(np.log1p)\n",
    "train_data['Fare_log1p'] = log_transformation(train_data['Fare'])\n",
    "\n",
    "train_data.describe()"
   ]
  },
  {
   "cell_type": "code",
   "execution_count": null,
   "metadata": {},
   "outputs": [],
   "source": [
    "plt.hist(train_data['Fare_log1p'], bins=40)\n",
    "plt.xlabel('Fare_log1p', fontsize=15)\n",
    "plt.ylabel('Counts', fontsize=15)"
   ]
  },
  {
   "cell_type": "code",
   "execution_count": null,
   "metadata": {},
   "outputs": [],
   "source": [
    "from sklearn.preprocessing import OneHotEncoder\n",
    "cat_f = ['Pclass', 'Sex', \"Embarked\"]\n",
    "train_data_cat = train_data[cat_f]\n",
    "train_data_cat = train_data_cat.replace({'Pclass': {1: 'First', 2: 'Second', 3: 'Third'}})\n",
    "train_data_cat_dummies = pd.get_dummies(train_data_cat)\n",
    "train_data_cat_dummies.head()"
   ]
  },
  {
   "cell_type": "code",
   "execution_count": null,
   "metadata": {},
   "outputs": [],
   "source": [
    "features_model = ['Age', 'SibSp', 'Parch', 'Fare_log1p']\n",
    "feature = pd.concat([train_data[features_model], train_data_cat_dummies], axis=1)\n",
    "target= train_data.replace({'Survived': {1: 'Survived', 0: 'Not_survived'}})['Survived']"
   ]
  },
  {
   "cell_type": "code",
   "execution_count": null,
   "metadata": {},
   "outputs": [],
   "source": [
    "from sklearn.model_selection import train_test_split\n",
    "x_train, x_test, y_train, y_test = train_test_split(feature, target, random_state = 42,test_size=0.30)"
   ]
  },
  {
   "cell_type": "code",
   "execution_count": null,
   "metadata": {},
   "outputs": [],
   "source": [
    "from sklearn.naive_bayes import GaussianNB\n",
    "from sklearn.svm import SVC\n",
    "from sklearn.neighbors import KNeighborsClassifier\n",
    "from sklearn.ensemble import AdaBoostClassifier\n",
    "from sklearn.ensemble import RandomForestClassifier\n",
    "from sklearn.model_selection import cross_val_score\n",
    "from sklearn.model_selection import train_test_split\n",
    "from sklearn.metrics import classification_report, confusion_matrix, classification_report, accuracy_score, roc_curve, auc"
   ]
  },
  {
   "cell_type": "code",
   "execution_count": null,
   "metadata": {},
   "outputs": [],
   "source": [
    "knn = KNeighborsClassifier(n_neighbors=3)\n",
    "svm= SVC()\n",
    "adaboost= AdaBoostClassifier()\n",
    "gnb=GaussianNB()\n",
    "rf=RandomForestClassifier(random_state=42)"
   ]
  },
  {
   "cell_type": "code",
   "execution_count": null,
   "metadata": {},
   "outputs": [],
   "source": [
    "knn.fit(x_train, y_train)  \n",
    "y_pred = knn.predict(x_test)  \n",
    "acc_knn = round(knn.score(x_train, y_train) * 100, 2)"
   ]
  },
  {
   "cell_type": "code",
   "execution_count": null,
   "metadata": {},
   "outputs": [],
   "source": [
    "svm.fit(x_train, y_train)  \n",
    "y_pred = svm.predict(x_test)  \n",
    "acc_svm = round(svm.score(x_train, y_train) * 100, 2)"
   ]
  },
  {
   "cell_type": "code",
   "execution_count": null,
   "metadata": {},
   "outputs": [],
   "source": [
    "adaboost.fit(x_train, y_train)  \n",
    "y_pred = adaboost.predict(x_test)  \n",
    "acc_ada = round(adaboost.score(x_train, y_train) * 100, 2)"
   ]
  },
  {
   "cell_type": "code",
   "execution_count": null,
   "metadata": {},
   "outputs": [],
   "source": [
    "gnb.fit(x_train, y_train)  \n",
    "y_pred = gnb.predict(x_test)  \n",
    "acc_gnb = round(gnb.score(x_train, y_train) * 100, 2)\n"
   ]
  },
  {
   "cell_type": "code",
   "execution_count": null,
   "metadata": {},
   "outputs": [],
   "source": [
    "rf.fit(x_train, y_train)  \n",
    "y_pred = rf.predict(x_test)  \n",
    "acc_rf = round(rf.score(x_train, y_train) * 100, 2)"
   ]
  },
  {
   "cell_type": "code",
   "execution_count": null,
   "metadata": {},
   "outputs": [],
   "source": [
    "results = pd.DataFrame({\n",
    "    'Model': ['KNN', 'Support Vector Machine', \n",
    "              'AdaBoost', 'Naive Bayes', 'Random Forest'],\n",
    "    'Score': [acc_knn, acc_svm, acc_ada, acc_gnb, acc_rf]})\n",
    "\n",
    "result_df = results.sort_values(by='Score', ascending=False)\n",
    "result_df = result_df.set_index('Score')\n",
    "result_df.head()"
   ]
  },
  {
   "cell_type": "code",
   "execution_count": null,
   "metadata": {},
   "outputs": [],
   "source": [
    "print (np.mean(cross_val_score(rf, x_train, y_train, cv=10)))"
   ]
  },
  {
   "cell_type": "code",
   "execution_count": null,
   "metadata": {},
   "outputs": [],
   "source": [
    "from yellowbrick.classifier import ClassificationReport\n",
    "mu_viz = ClassificationReport(RandomForestClassifier(), cmap='GnBu')\n",
    "mu_viz.fit(x_train, y_train)\n",
    "mu_viz.score(x_test, y_test)\n",
    "mu_viz.show()"
   ]
  },
  {
   "cell_type": "code",
   "execution_count": null,
   "metadata": {},
   "outputs": [],
   "source": [
    "# Save the model\n",
    "from sklearn.externals import joblib \n",
    "joblib.dump(rf, 'Titanic_RandomForest.pkl')"
   ]
  },
  {
   "cell_type": "code",
   "execution_count": null,
   "metadata": {},
   "outputs": [],
   "source": []
  }
 ],
 "metadata": {
  "kernelspec": {
   "display_name": "Python 3",
   "language": "python",
   "name": "python3"
  },
  "language_info": {
   "codemirror_mode": {
    "name": "ipython",
    "version": 3
   },
   "file_extension": ".py",
   "mimetype": "text/x-python",
   "name": "python",
   "nbconvert_exporter": "python",
   "pygments_lexer": "ipython3",
   "version": "3.7.3"
  }
 },
 "nbformat": 4,
 "nbformat_minor": 2
}
